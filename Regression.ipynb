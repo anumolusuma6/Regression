{
 "cells": [
  {
   "cell_type": "code",
   "execution_count": 63,
   "metadata": {},
   "outputs": [],
   "source": [
    "# Import libraries and set desired options\n",
    "import pandas as pd\n",
    "import numpy as np\n",
    "import statsmodels.api as sm"
   ]
  },
  {
   "cell_type": "code",
   "execution_count": 35,
   "metadata": {},
   "outputs": [
    {
     "name": "stderr",
     "output_type": "stream",
     "text": [
      "C:\\Users\\dell\\AppData\\Local\\Packages\\PythonSoftwareFoundation.Python.3.11_qbz5n2kfra8p0\\LocalCache\\local-packages\\Python311\\site-packages\\openpyxl\\worksheet\\header_footer.py:48: UserWarning: Cannot parse header or footer so it will be ignored\n",
      "  warn(\"\"\"Cannot parse header or footer so it will be ignored\"\"\")\n",
      "C:\\Users\\dell\\AppData\\Local\\Packages\\PythonSoftwareFoundation.Python.3.11_qbz5n2kfra8p0\\LocalCache\\local-packages\\Python311\\site-packages\\openpyxl\\worksheet\\header_footer.py:48: UserWarning: Cannot parse header or footer so it will be ignored\n",
      "  warn(\"\"\"Cannot parse header or footer so it will be ignored\"\"\")\n"
     ]
    }
   ],
   "source": [
    "# Read the training and test data sets\n",
    "Emp = pd.read_excel(r\"C:\\HSCI846\\Regression\\Employees.xlsx\")\n",
    "Exp = pd.read_excel(r\"C:\\HSCI846\\Regression\\Exposures.xlsx\")\n",
    "Eval = pd.read_excel(r\"C:\\HSCI846\\Regression\\Evaluation.xlsx\")"
   ]
  },
  {
   "cell_type": "markdown",
   "metadata": {},
   "source": [
    "Employees’ contains all the relevant employee data:\n",
    "Employee = Unique employee identifier\n",
    "JobCategory = A numerical code (1-4) for job category\n",
    "Sex = M/F\n",
    "Shift = Employee’s work shift (AM = morning; PM = afternoon)\n",
    "Status = Part-time (PT) or full-time (FT)\n",
    "Age = Employee’s age (years) at time of biomarker sample collection\n",
    "YearsExperience = Number of years that the employee has worked at the company\n",
    "StartAge = Employee’s age (years) at the start of employment"
   ]
  },
  {
   "cell_type": "markdown",
   "metadata": {},
   "source": [
    "‘Exposures’ contains all the relevant exposure and PPE data:\n",
    "Employee = Unique employee identifier\n",
    "PPE = Type of personal protective equipment used on the day of biomarker collection: None = No PPE worn; Resp = Respirator; Mask = Face Mask\n",
    "UrineConcentration = The concentration of the toxicant in a urine sample collected immediately at the end of the work shift.\n"
   ]
  },
  {
   "cell_type": "markdown",
   "metadata": {},
   "source": [
    "After importing, use the shape, head, isnull procedure to get a description of the variables in each"
   ]
  },
  {
   "cell_type": "code",
   "execution_count": 43,
   "metadata": {},
   "outputs": [
    {
     "name": "stdout",
     "output_type": "stream",
     "text": [
      "Dataset: Exp, Shape: (849, 3)\n",
      "Missing values in Exp: Employee                0\n",
      "PPE                   201\n",
      "UrineConcentration      0\n",
      "dtype: int64\n",
      "Dataset: Emp, Shape: (849, 8)\n",
      "Missing values in Emp: Employee           0\n",
      "JobCategory        0\n",
      "Sex                0\n",
      "Shift              0\n",
      "Status             0\n",
      "Age                0\n",
      "YearsExperience    0\n",
      "StartAge           0\n",
      "dtype: int64\n",
      "Dataset: Eval, Shape: (150, 10)\n",
      "Missing values in Eval: Employee               0\n",
      "PPE                   44\n",
      "UrineConcentration     0\n",
      "JobCategory            0\n",
      "Sex                    0\n",
      "Shift                  0\n",
      "Status                 0\n",
      "Age                    0\n",
      "YearsExperience        0\n",
      "StartAge               0\n",
      "dtype: int64\n"
     ]
    }
   ],
   "source": [
    "datasets = [(\"Exp\", Exp), (\"Emp\", Emp), (\"Eval\", Eval)]\n",
    "\n",
    "for dataset_name, dataset in datasets:\n",
    "    print(f\"Dataset: {dataset_name}, Shape: {dataset.shape}\")\n",
    "    missing_values = dataset.isnull().sum()\n",
    "    print(f\"Missing values in {dataset_name}:\", missing_values)"
   ]
  },
  {
   "cell_type": "markdown",
   "metadata": {},
   "source": [
    "Now sort both the Employees and Exposures data sets by the variable Employee and merge the files together by that variable. Call the new, merged dataset COMBINED:"
   ]
  },
  {
   "cell_type": "code",
   "execution_count": 46,
   "metadata": {},
   "outputs": [
    {
     "name": "stdout",
     "output_type": "stream",
     "text": [
      "     Employee  JobCategory Sex Shift Status  Age  YearsExperience  StartAge  \\\n",
      "0           1            1   F    AM     FT   42               16        26   \n",
      "1           2            3   M    AM     FT   57               33        24   \n",
      "2           3            1   F    AM     FT   52               24        28   \n",
      "3           4            4   M    AM     FT   55               31        24   \n",
      "4           5            1   M    PM     FT   52               26        26   \n",
      "..        ...          ...  ..   ...    ...  ...              ...       ...   \n",
      "844       846            4   F    PM     FT   53               25        28   \n",
      "845       847            3   F    PM     PT   38               15        23   \n",
      "846       848            2   F    PM     FT   48               25        23   \n",
      "847       849            3   M    PM     FT   57               32        25   \n",
      "848       850            2   M    PM     FT   57               33        24   \n",
      "\n",
      "      PPE  UrineConcentration  \n",
      "0    Resp           57.472155  \n",
      "1    Resp           32.291851  \n",
      "2     NaN           88.614880  \n",
      "3    Resp           69.549699  \n",
      "4     NaN           76.197185  \n",
      "..    ...                 ...  \n",
      "844   NaN           81.555677  \n",
      "845  Resp           49.550645  \n",
      "846  Resp           25.422734  \n",
      "847  Mask           47.191249  \n",
      "848  Resp           33.417174  \n",
      "\n",
      "[849 rows x 10 columns]\n"
     ]
    }
   ],
   "source": [
    "# Sort 'employees' DataFrame by the 'employee' column\n",
    "employees_sorted = Emp.sort_values(by='Employee')\n",
    "\n",
    "# Sort 'exposures' DataFrame by the 'employee' column\n",
    "exposures_sorted = Exp.sort_values(by='Employee')\n",
    "\n",
    "# Merge sorted DataFrames on the 'employee' column\n",
    "combined = pd.merge(employees_sorted, exposures_sorted, on='Employee')\n",
    "\n",
    "# Print the combined DataFrame\n",
    "print(combined)"
   ]
  },
  {
   "cell_type": "markdown",
   "metadata": {},
   "source": [
    "Now run SciPy on the Concentration variable in the COMBINED dataset to generate a QQ plot."
   ]
  },
  {
   "cell_type": "code",
   "execution_count": 53,
   "metadata": {},
   "outputs": [
    {
     "data": {
      "image/png": "[encoded data removed]",
      "text/plain": [
       "<Figure size 640x480 with 1 Axes>"
      ]
     },
     "metadata": {},
     "output_type": "display_data"
    }
   ],
   "source": [
    "import matplotlib.pyplot as plt\n",
    "from scipy import stats\n",
    "\n",
    "# Create the QQ plot\n",
    "stats.probplot(combined['UrineConcentration'], dist=\"norm\", plot=plt)\n",
    "plt.title('QQ Plot')\n",
    "plt.xlabel('Theoretical Quantiles')\n",
    "plt.ylabel('Sample Quantiles')\n",
    "plt.grid(True)\n",
    "plt.show()"
   ]
  },
  {
   "cell_type": "markdown",
   "metadata": {},
   "source": [
    "As you can see the QQplot is not normally distributed, lets apply the logarthemic scale and check"
   ]
  },
  {
   "cell_type": "markdown",
   "metadata": {},
   "source": [
    "Next, log-transform the UrineConcentration variable, and call the log-transformed variable Log_Concentration."
   ]
  },
  {
   "cell_type": "code",
   "execution_count": 56,
   "metadata": {},
   "outputs": [],
   "source": [
    "combined['log_Urine'] = np.log(combined['UrineConcentration'])"
   ]
  },
  {
   "cell_type": "code",
   "execution_count": 57,
   "metadata": {},
   "outputs": [
    {
     "data": {
      "image/png": "[encoded data removed]",
      "text/plain": [
       "<Figure size 640x480 with 1 Axes>"
      ]
     },
     "metadata": {},
     "output_type": "display_data"
    }
   ],
   "source": [
    "stats.probplot(combined['log_Urine'], dist=\"norm\", plot=plt)\n",
    "plt.title('QQ Plot')\n",
    "plt.xlabel('Theoretical Quantiles')\n",
    "plt.ylabel('Sample Quantiles')\n",
    "plt.grid(True)\n",
    "plt.show()"
   ]
  },
  {
   "cell_type": "markdown",
   "metadata": {},
   "source": [
    "Now you see that the QQplot is log approximately normally distributed"
   ]
  },
  {
   "cell_type": "markdown",
   "metadata": {},
   "source": [
    "For the continuous variables (Age, YearsExperience, StartAge), you might want to use CORR and create correlation matrices "
   ]
  },
  {
   "cell_type": "code",
   "execution_count": 59,
   "metadata": {},
   "outputs": [
    {
     "name": "stdout",
     "output_type": "stream",
     "text": [
      "                         Age  YearsExperience  StartAge  UrineConcentration\n",
      "Age                 1.000000         0.965357  0.009460           -0.091481\n",
      "YearsExperience     0.965357         1.000000 -0.251790           -0.102345\n",
      "StartAge            0.009460        -0.251790  1.000000            0.052911\n",
      "UrineConcentration -0.091481        -0.102345  0.052911            1.000000\n"
     ]
    }
   ],
   "source": [
    "\n",
    "correlation_matrix = combined[['Age', 'YearsExperience', 'StartAge','UrineConcentration']].corr()\n",
    "\n",
    "# Print the correlation matrix\n",
    "print(correlation_matrix)\n"
   ]
  },
  {
   "cell_type": "markdown",
   "metadata": {},
   "source": [
    "UrineConcentration  and Age have a weak negative correlation.\n",
    "UrineConcentration  and YearsExperience have a weak negative correlation.\n",
    "UrineConcentration and StartAge have a weak positive correlation."
   ]
  },
  {
   "cell_type": "markdown",
   "metadata": {},
   "source": [
    "we may want to estimate a worker’s exposure to this toxicant without the need for collecting urine samples and analyzing them – it would be useful if we could approximate exposure based on information that is more easily collected such as job category, shift, sex, use of PPE, etc. Let’s start by creating dummy variables for our categorical variables: JobCategory, Shift, Status, Sex, and PPE.\n",
    "a. Recall that when you create dummy variables you need one fewer variable than there are categories. For example, since there are three PPE categories (none, mask, respirator) you would need two dummy variables to describe PPE. The category that does not have a dummy variable becomes the reference category (i.e., the category indicated when all dummy variables = 0). In this case, we will create dummy variables for “Resp” and “Mask,” thereby making “None” the reference category:"
   ]
  },
  {
   "cell_type": "code",
   "execution_count": 85,
   "metadata": {},
   "outputs": [],
   "source": [
    "dummy_df = pd.get_dummies(combined, columns=['JobCategory', 'Shift', 'Status', 'Sex', 'PPE'], drop_first=True)"
   ]
  },
  {
   "cell_type": "markdown",
   "metadata": {},
   "source": [
    "Setting drop_first=True will drop the first level of each categorical variable, resulting in (n-1) dummy variables for each categorical variable instead of n dummy variables. This approach helps avoid multicollinearity issues in regression models."
   ]
  },
  {
   "cell_type": "code",
   "execution_count": 86,
   "metadata": {},
   "outputs": [],
   "source": [
    "dummy_df = dummy_df.astype(int)"
   ]
  },
  {
   "cell_type": "code",
   "execution_count": 87,
   "metadata": {},
   "outputs": [
    {
     "data": {
      "text/plain": [
       "<bound method NDFrame.head of      Employee  Age  YearsExperience  StartAge  UrineConcentration  log_Urine  \\\n",
       "0           1   42               16        26                  57          4   \n",
       "1           2   57               33        24                  32          3   \n",
       "2           3   52               24        28                  88          4   \n",
       "3           4   55               31        24                  69          4   \n",
       "4           5   52               26        26                  76          4   \n",
       "..        ...  ...              ...       ...                 ...        ...   \n",
       "844       846   53               25        28                  81          4   \n",
       "845       847   38               15        23                  49          3   \n",
       "846       848   48               25        23                  25          3   \n",
       "847       849   57               32        25                  47          3   \n",
       "848       850   57               33        24                  33          3   \n",
       "\n",
       "     JobCategory_2  JobCategory_3  JobCategory_4  Shift_PM  Status_PT  Sex_M  \\\n",
       "0                0              0              0         0          0      0   \n",
       "1                0              1              0         0          0      1   \n",
       "2                0              0              0         0          0      0   \n",
       "3                0              0              1         0          0      1   \n",
       "4                0              0              0         1          0      1   \n",
       "..             ...            ...            ...       ...        ...    ...   \n",
       "844              0              0              1         1          0      0   \n",
       "845              0              1              0         1          1      0   \n",
       "846              1              0              0         1          0      0   \n",
       "847              0              1              0         1          0      1   \n",
       "848              1              0              0         1          0      1   \n",
       "\n",
       "     PPE_Resp  \n",
       "0           1  \n",
       "1           1  \n",
       "2           0  \n",
       "3           1  \n",
       "4           0  \n",
       "..        ...  \n",
       "844         0  \n",
       "845         1  \n",
       "846         1  \n",
       "847         0  \n",
       "848         1  \n",
       "\n",
       "[849 rows x 13 columns]>"
      ]
     },
     "execution_count": 87,
     "metadata": {},
     "output_type": "execute_result"
    }
   ],
   "source": [
    "dummy_df.head"
   ]
  },
  {
   "cell_type": "code",
   "execution_count": 88,
   "metadata": {},
   "outputs": [
    {
     "data": {
      "text/plain": [
       "Index(['Employee', 'Age', 'YearsExperience', 'StartAge', 'UrineConcentration',\n",
       "       'log_Urine', 'JobCategory_2', 'JobCategory_3', 'JobCategory_4',\n",
       "       'Shift_PM', 'Status_PT', 'Sex_M', 'PPE_Resp'],\n",
       "      dtype='object')"
      ]
     },
     "execution_count": 88,
     "metadata": {},
     "output_type": "execute_result"
    }
   ],
   "source": [
    "dummy_df.columns"
   ]
  },
  {
   "cell_type": "code",
   "execution_count": 94,
   "metadata": {},
   "outputs": [
    {
     "name": "stdout",
     "output_type": "stream",
     "text": [
      "                            OLS Regression Results                            \n",
      "==============================================================================\n",
      "Dep. Variable:              log_Urine   R-squared:                       0.232\n",
      "Model:                            OLS   Adj. R-squared:                  0.224\n",
      "Method:                 Least Squares   F-statistic:                     28.13\n",
      "Date:                Mon, 11 Mar 2024   Prob (F-statistic):           7.29e-43\n",
      "Time:                        23:22:55   Log-Likelihood:                -631.47\n",
      "No. Observations:                 849   AIC:                             1283.\n",
      "Df Residuals:                     839   BIC:                             1330.\n",
      "Df Model:                           9                                         \n",
      "Covariance Type:            nonrobust                                         \n",
      "===================================================================================\n",
      "                      coef    std err          t      P>|t|      [0.025      0.975]\n",
      "-----------------------------------------------------------------------------------\n",
      "const               3.7513      0.279     13.442      0.000       3.204       4.299\n",
      "Age                -0.0020      0.004     -0.532      0.595      -0.009       0.005\n",
      "YearsExperience    -0.0088      0.003     -2.577      0.010      -0.015      -0.002\n",
      "StartAge            0.0068      0.007      1.031      0.303      -0.006       0.020\n",
      "JobCategory_2      -0.4233      0.049     -8.568      0.000      -0.520      -0.326\n",
      "JobCategory_3      -0.4450      0.050     -8.974      0.000      -0.542      -0.348\n",
      "JobCategory_4       0.0470      0.052      0.908      0.364      -0.055       0.149\n",
      "Shift_PM            0.1552      0.035      4.383      0.000       0.086       0.225\n",
      "Status_PT          -0.0214      0.038     -0.558      0.577      -0.097       0.054\n",
      "Sex_M               0.0336      0.037      0.916      0.360      -0.038       0.106\n",
      "PPE_Resp           -0.2260      0.037     -6.164      0.000      -0.298      -0.154\n",
      "==============================================================================\n",
      "Omnibus:                        2.696   Durbin-Watson:                   1.951\n",
      "Prob(Omnibus):                  0.260   Jarque-Bera (JB):                2.419\n",
      "Skew:                          -0.050   Prob(JB):                        0.298\n",
      "Kurtosis:                       2.758   Cond. No.                     5.56e+15\n",
      "==============================================================================\n",
      "\n",
      "Notes:\n",
      "[1] Standard Errors assume that the covariance matrix of the errors is correctly specified.\n",
      "[2] The smallest eigenvalue is  1e-25. This might indicate that there are\n",
      "strong multicollinearity problems or that the design matrix is singular.\n"
     ]
    }
   ],
   "source": [
    "# Define the independent variables\n",
    "X = dummy_df[[ 'Age', 'YearsExperience', 'StartAge',\n",
    "    'JobCategory_2', 'JobCategory_3', 'JobCategory_4',\n",
    "       'Shift_PM', 'Status_PT', 'Sex_M', 'PPE_Resp',\n",
    "]]\n",
    "\n",
    "# Add a constant to the independent variables\n",
    "X = sm.add_constant(X)\n",
    "\n",
    "# Define the dependent variable\n",
    "y = dummy_df['log_Urine']\n",
    "\n",
    "# Fit the linear regression model\n",
    "model = sm.OLS(y, X).fit()\n",
    "\n",
    "# Print the regression summary\n",
    "print(model.summary())"
   ]
  },
  {
   "cell_type": "markdown",
   "metadata": {},
   "source": [
    "Now that our model is ready lets work on the independent dataset"
   ]
  },
  {
   "cell_type": "markdown",
   "metadata": {},
   "source": [
    "Create dummy variables in the evaluation dataset"
   ]
  },
  {
   "cell_type": "code",
   "execution_count": 90,
   "metadata": {},
   "outputs": [],
   "source": [
    "Eval_dummy = pd.get_dummies(Eval, columns=['JobCategory', 'Shift', 'Status', 'Sex', 'PPE'], drop_first=True)"
   ]
  },
  {
   "cell_type": "code",
   "execution_count": 92,
   "metadata": {},
   "outputs": [],
   "source": [
    "Eval_dummy= Eval_dummy.astype(int)"
   ]
  },
  {
   "cell_type": "code",
   "execution_count": 93,
   "metadata": {},
   "outputs": [
    {
     "data": {
      "text/plain": [
       "Employee              int32\n",
       "UrineConcentration    int32\n",
       "Age                   int32\n",
       "YearsExperience       int32\n",
       "StartAge              int32\n",
       "JobCategory_2         int32\n",
       "JobCategory_3         int32\n",
       "JobCategory_4         int32\n",
       "Shift_PM              int32\n",
       "Status_PT             int32\n",
       "Sex_M                 int32\n",
       "PPE_Resp              int32\n",
       "dtype: object"
      ]
     },
     "execution_count": 93,
     "metadata": {},
     "output_type": "execute_result"
    }
   ],
   "source": [
    "Eval_dummy.dtypes"
   ]
  },
  {
   "cell_type": "code",
   "execution_count": 95,
   "metadata": {},
   "outputs": [
    {
     "data": {
      "text/plain": [
       "Index(['Employee', 'UrineConcentration', 'Age', 'YearsExperience', 'StartAge',\n",
       "       'JobCategory_2', 'JobCategory_3', 'JobCategory_4', 'Shift_PM',\n",
       "       'Status_PT', 'Sex_M', 'PPE_Resp'],\n",
       "      dtype='object')"
      ]
     },
     "execution_count": 95,
     "metadata": {},
     "output_type": "execute_result"
    }
   ],
   "source": [
    "Eval_dummy.columns"
   ]
  },
  {
   "cell_type": "code",
   "execution_count": 96,
   "metadata": {},
   "outputs": [
    {
     "name": "stdout",
     "output_type": "stream",
     "text": [
      "     Employee  UrineConcentration  Age  YearsExperience  StartAge  \\\n",
      "0         851                  45   57               31        26   \n",
      "1         852                  19   43               22        21   \n",
      "2         853                  73   63               40        23   \n",
      "3         854                  60   45               20        25   \n",
      "4         855                  30   48               22        26   \n",
      "..        ...                 ...  ...              ...       ...   \n",
      "145       996                  51   54               30        24   \n",
      "146       997                  60   51               24        27   \n",
      "147       998                  16   51               28        23   \n",
      "148       999                  40   36               11        25   \n",
      "149      1000                  17   46               19        27   \n",
      "\n",
      "     JobCategory_2  JobCategory_3  JobCategory_4  Shift_PM  Status_PT  Sex_M  \\\n",
      "0                0              0              0         0          0      1   \n",
      "1                0              1              0         1          1      0   \n",
      "2                0              0              1         0          0      1   \n",
      "3                0              0              1         1          1      0   \n",
      "4                0              1              0         0          1      1   \n",
      "..             ...            ...            ...       ...        ...    ...   \n",
      "145              0              0              0         1          1      0   \n",
      "146              0              1              0         0          1      1   \n",
      "147              0              1              0         0          1      1   \n",
      "148              1              0              0         0          1      1   \n",
      "149              0              1              0         0          0      0   \n",
      "\n",
      "     PPE_Resp  log_predicted  \n",
      "0           0       3.577934  \n",
      "1           1       3.079570  \n",
      "2           1       3.288100  \n",
      "3           0       3.838238  \n",
      "4           1       2.982107  \n",
      "..        ...            ...  \n",
      "145         0       3.679193  \n",
      "146         0       3.191443  \n",
      "147         0       3.129292  \n",
      "148         0       3.342785  \n",
      "149         0       3.232791  \n",
      "\n",
      "[150 rows x 13 columns]\n"
     ]
    }
   ],
   "source": [
    "# Add constant to independent variables\n",
    "dummy_variables= Eval_dummy[['Age', 'YearsExperience', 'StartAge',\n",
    "       'JobCategory_2', 'JobCategory_3', 'JobCategory_4', 'Shift_PM',\n",
    "       'Status_PT', 'Sex_M', 'PPE_Resp']]\n",
    "X_new = sm.add_constant(dummy_variables)\n",
    "\n",
    "# Predict log-transformed urine concentrations using regression parameters\n",
    "Eval_dummy['log_predicted'] = model.predict(X_new)\n"
   ]
  },
  {
   "cell_type": "code",
   "execution_count": 102,
   "metadata": {},
   "outputs": [
    {
     "data": {
      "text/plain": [
       "Index(['Employee', 'UrineConcentration', 'Age', 'YearsExperience', 'StartAge',\n",
       "       'JobCategory_2', 'JobCategory_3', 'JobCategory_4', 'Shift_PM',\n",
       "       'Status_PT', 'Sex_M', 'PPE_Resp', 'log_predicted'],\n",
       "      dtype='object')"
      ]
     },
     "execution_count": 102,
     "metadata": {},
     "output_type": "execute_result"
    }
   ],
   "source": [
    "Eval_dummy.columns"
   ]
  },
  {
   "cell_type": "code",
   "execution_count": 105,
   "metadata": {},
   "outputs": [],
   "source": [
    "Eval_dummy['predicted'] = np.exp(Eval_dummy['log_predicted'])"
   ]
  },
  {
   "cell_type": "code",
   "execution_count": 106,
   "metadata": {},
   "outputs": [
    {
     "data": {
      "text/html": [
       "<div>\n",
       "<style scoped>\n",
       "    .dataframe tbody tr th:only-of-type {\n",
       "        vertical-align: middle;\n",
       "    }\n",
       "\n",
       "    .dataframe tbody tr th {\n",
       "        vertical-align: top;\n",
       "    }\n",
       "\n",
       "    .dataframe thead th {\n",
       "        text-align: right;\n",
       "    }\n",
       "</style>\n",
       "<table border=\"1\" class=\"dataframe\">\n",
       "  <thead>\n",
       "    <tr style=\"text-align: right;\">\n",
       "      <th></th>\n",
       "      <th>UrineConcentration</th>\n",
       "      <th>predicted</th>\n",
       "    </tr>\n",
       "  </thead>\n",
       "  <tbody>\n",
       "    <tr>\n",
       "      <th>0</th>\n",
       "      <td>45</td>\n",
       "      <td>35.799500</td>\n",
       "    </tr>\n",
       "    <tr>\n",
       "      <th>1</th>\n",
       "      <td>19</td>\n",
       "      <td>21.749041</td>\n",
       "    </tr>\n",
       "    <tr>\n",
       "      <th>2</th>\n",
       "      <td>73</td>\n",
       "      <td>26.791908</td>\n",
       "    </tr>\n",
       "    <tr>\n",
       "      <th>3</th>\n",
       "      <td>60</td>\n",
       "      <td>46.443583</td>\n",
       "    </tr>\n",
       "    <tr>\n",
       "      <th>4</th>\n",
       "      <td>30</td>\n",
       "      <td>19.729338</td>\n",
       "    </tr>\n",
       "    <tr>\n",
       "      <th>...</th>\n",
       "      <td>...</td>\n",
       "      <td>...</td>\n",
       "    </tr>\n",
       "    <tr>\n",
       "      <th>145</th>\n",
       "      <td>51</td>\n",
       "      <td>39.614408</td>\n",
       "    </tr>\n",
       "    <tr>\n",
       "      <th>146</th>\n",
       "      <td>60</td>\n",
       "      <td>24.323492</td>\n",
       "    </tr>\n",
       "    <tr>\n",
       "      <th>147</th>\n",
       "      <td>16</td>\n",
       "      <td>22.857779</td>\n",
       "    </tr>\n",
       "    <tr>\n",
       "      <th>148</th>\n",
       "      <td>40</td>\n",
       "      <td>28.297827</td>\n",
       "    </tr>\n",
       "    <tr>\n",
       "      <th>149</th>\n",
       "      <td>17</td>\n",
       "      <td>25.350322</td>\n",
       "    </tr>\n",
       "  </tbody>\n",
       "</table>\n",
       "<p>150 rows × 2 columns</p>\n",
       "</div>"
      ],
      "text/plain": [
       "     UrineConcentration  predicted\n",
       "0                    45  35.799500\n",
       "1                    19  21.749041\n",
       "2                    73  26.791908\n",
       "3                    60  46.443583\n",
       "4                    30  19.729338\n",
       "..                  ...        ...\n",
       "145                  51  39.614408\n",
       "146                  60  24.323492\n",
       "147                  16  22.857779\n",
       "148                  40  28.297827\n",
       "149                  17  25.350322\n",
       "\n",
       "[150 rows x 2 columns]"
      ]
     },
     "execution_count": 106,
     "metadata": {},
     "output_type": "execute_result"
    }
   ],
   "source": [
    "Eval_dummy[['UrineConcentration', 'predicted']]"
   ]
  },
  {
   "cell_type": "code",
   "execution_count": 115,
   "metadata": {},
   "outputs": [
    {
     "name": "stderr",
     "output_type": "stream",
     "text": [
      "No artists with labels found to put in legend.  Note that artists whose label start with an underscore are ignored when legend() is called with no argument.\n"
     ]
    },
    {
     "data": {
      "image/png": "[encoded data removed]",
      "text/plain": [
       "<Figure size 1000x600 with 1 Axes>"
      ]
     },
     "metadata": {},
     "output_type": "display_data"
    }
   ],
   "source": [
    "\n",
    "# Plot UrineConcentration against Predicted\n",
    "plt.figure(figsize=(10, 6))\n",
    "\n",
    "sns.scatterplot(data=Eval_dummy, x='UrineConcentration', y=predicted, color='blue',) \n",
    "\n",
    "sns.regplot(data=Eval_dummy, x='UrineConcentration', y='predicted', scatter=False, color='red')\n",
    "\n",
    "# Add labels and title\n",
    "plt.title('Actual vs. Predicted Urine Concentrations')\n",
    "plt.xlabel('Actual Urine Concentration')\n",
    "plt.ylabel('Predicted Urine Concentration')\n",
    "plt.legend()\n",
    "\n",
    "# Show plot\n",
    "plt.grid(True)\n",
    "plt.show()\n"
   ]
  }
 ],
 "metadata": {
  "kernelspec": {
   "display_name": "Python 3",
   "language": "python",
   "name": "python3"
  },
  "language_info": {
   "codemirror_mode": {
    "name": "ipython",
    "version": 3
   },
   "file_extension": ".py",
   "mimetype": "text/x-python",
   "name": "python",
   "nbconvert_exporter": "python",
   "pygments_lexer": "ipython3",
   "version": "3.11.8"
  }
 },
 "nbformat": 4,
 "nbformat_minor": 2
}
